{
  "cells": [
    {
      "cell_type": "markdown",
      "metadata": {
        "id": "view-in-github",
        "colab_type": "text"
      },
      "source": [
        "<a href=\"https://colab.research.google.com/github/coleaderme/multi-yt/blob/main/multiYT_download.ipynb\" target=\"_parent\"><img src=\"https://colab.research.google.com/assets/colab-badge.svg\" alt=\"Open In Colab\"/></a>"
      ]
    },
    {
      "cell_type": "markdown",
      "metadata": {
        "id": "QYj3oxbAy9zJ"
      },
      "source": [
        "Default: Max video length 40 mins. (See Download menu)\n",
        "        \n",
        "\n",
        "No limit on Audio.\n",
        "         "
      ]
    },
    {
      "cell_type": "code",
      "execution_count": null,
      "metadata": {
        "id": "ekV5S19kxyb7",
        "cellView": "form"
      },
      "outputs": [],
      "source": [
        "LINK = \"\" # @param {type:\"string\"}\n",
        "Download = \"Audio_Video\" #@param [\"Audio_Only\", \"Audio_Video\", \"Bypass_40Mins_Video_Limit\"]\n",
        "\n",
        "from google.colab import drive\n",
        "drive.mount('/content/drive')\n",
        "\n",
        "!wget \"https://raw.githubusercontent.com/coleaderme/multi-yt/main/multiYT.sh\"\n",
        "!wget \"https://raw.githubusercontent.com/coleaderme/multi-yt/main/multiYT_A.sh\"\n",
        "!wget -c \"https://github.com/yt-dlp/yt-dlp/releases/latest/download/yt-dlp_linux\" && mv yt-dlp_linux /usr/bin/yt-dlp && chmod +x /usr/bin/yt-dlp\n",
        "## Not using aria2c, already downloading via 10 parallel connections.\n",
        "# !apt -qq update && apt -qq install aria2\n",
        "\n",
        "#### Step 1: Command to Flat URL to playlist (videos less then 40 mins)\n",
        "if Download == \"Audio_Video\":\n",
        "    !yt-dlp --match-filter \"duration < 2400\" --flat-playlist -i --print-to-file url playlist.txt \"$LINK\"\n",
        "elif Download == \"Audio_Only\":\n",
        "    !yt-dlp --flat-playlist -i --print-to-file url playlist.txt \"$LINK\"\n",
        "elif Download == \"Bypass_40Mins_Video_Limit\":\n",
        "    !yt-dlp --flat-playlist -i --print-to-file url playlist.txt \"$LINK\"\n",
        "else:\n",
        "    print(\"Expected 1 of 3 opts above.\")\n",
        "\n",
        "## download X numbers of videos at once.\n",
        "INCREMENT = 10\n",
        "\n",
        "\n",
        "#### Step 2: Convert large list into smaller list of n items\n",
        "with open(\"playlist.txt\") as pl:\n",
        "    links = [l.strip() for l in pl]\n",
        "\n",
        "total = len(links)\n",
        "groups = int(total / INCREMENT)\n",
        "extra = total % INCREMENT\n",
        "\n",
        "batch = 0\n",
        "nextj = 0 # pass on the local variable, i.e, for loop.\n",
        "## loop 11 times of 5's\n",
        "for j in range(groups):\n",
        "    ## [quick] how does this works? ..\n",
        "    ## links[0:0+5] >> links[5:5+5] >> links[10:10+5]\n",
        "    with open(f\"queue{j+1}.txt\", 'a') as f:\n",
        "        for k in links[batch:batch+INCREMENT]:\n",
        "            f.write(f\"{k}\\n\")\n",
        "        batch = batch + INCREMENT\n",
        "    nextj = j # pass on the local variable to next loop.\n",
        "\n",
        "if extra:\n",
        "    with open(f\"queue{nextj+1+1}.txt\", 'a') as f:\n",
        "        for r in links[batch:]:\n",
        "            f.write(f\"{r}\\n\")\n",
        "            # print(\"extra \"+ r)\n",
        "\n",
        "print(\"total items:\", total,\"groups:\", groups ,\"extra:\", extra)\n",
        "\n",
        "#### Step 3: Execute this command\n",
        "if Download == \"Audio_Only\":\n",
        "    !for i in $(ls | grep \"que\"); do bash multiYT_A.sh $i;done\n",
        "else:\n",
        "    !for i in $(ls | grep \"que\"); do bash multiYT.sh $i;done\n",
        "\n",
        "#*******************************************************************************************\n",
        "#### Step 4: Packing and moving\n",
        "!mkdir YT_Downloads\n",
        "!mv *.mkv YT_Downloads/\n",
        "!mv *.webm YT_Downloads/\n",
        "!mv *.opus YT_Downloads/\n",
        "\n",
        "!7z a -m0=copy YT_Downloads.7z \"/content/YT_Downloads/\"\n",
        "\n",
        "print('Moving to Google Drive...')\n",
        "!cp -v \"/content/YT_Downloads.7z\" \"/content/drive/MyDrive/\"\n",
        "print('[OK] Done.')"
      ]
    }
  ],
  "metadata": {
    "colab": {
      "provenance": [],
      "include_colab_link": true
    },
    "kernelspec": {
      "display_name": "Python 3",
      "name": "python3"
    },
    "language_info": {
      "name": "python"
    }
  },
  "nbformat": 4,
  "nbformat_minor": 0
}